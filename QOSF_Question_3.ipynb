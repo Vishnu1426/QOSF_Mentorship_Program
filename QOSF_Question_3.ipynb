{
 "cells": [
  {
   "cell_type": "code",
   "execution_count": 2,
   "id": "d81ac1c1",
   "metadata": {},
   "outputs": [
    {
     "name": "stdout",
     "output_type": "stream",
     "text": [
      "The list does not contain any negative numbers.\n"
     ]
    },
    {
     "name": "stderr",
     "output_type": "stream",
     "text": [
      "C:\\Users\\vishn\\AppData\\Local\\Temp\\ipykernel_13676\\2492381862.py:24: DeprecationWarning: Using a qobj for run() is deprecated as of qiskit-aer 0.9.0 and will be removed no sooner than 3 months from that release date. Transpiled circuits should now be passed directly using `backend.run(circuits, **run_options).\n",
      "  result = simulator.run(job).result()\n"
     ]
    }
   ],
   "source": [
    "from qiskit import QuantumCircuit, Aer, transpile, assemble\n",
    "import numpy as np\n",
    "\n",
    "def find_neg_num(numbers):\n",
    "    # Define the number of qubits needed to represent the numbers\n",
    "    \n",
    "    num_of_qbits = int(np.ceil(np.log2(max(numbers))) + 1)\n",
    "\n",
    "    # Create a quantum circuit\n",
    "    qc = QuantumCircuit(num_of_qbits)\n",
    "\n",
    "    # Encode the list of numbers into the quantum state\n",
    "    for i, number in enumerate(numbers):\n",
    "        if number < 0:\n",
    "            qc.x(num_of_qbits - 1 - i)  # Flip the qubit to indicate a negative number\n",
    "\n",
    "    # Measure the qubits\n",
    "    qc.measure_all()\n",
    "\n",
    "    # Simulate the circuit to get the measurement results\n",
    "    simulator = Aer.get_backend('qasm_simulator')\n",
    "    compiled_circuit = transpile(qc, simulator)\n",
    "    job = assemble(compiled_circuit)\n",
    "    result = simulator.run(job).result()\n",
    "    counts = result.get_counts()\n",
    "\n",
    "    # Check if any measurement result indicates a negative number\n",
    "    for measurement, count in counts.items():\n",
    "        if '1' in measurement:\n",
    "            return True\n",
    "\n",
    "    return False\n",
    "\n",
    "# Example usage\n",
    "# numbers_list = [-5,-4,-3,-2,-1,0,1,2,3,4,566]\n",
    "numbers_list = [0,1,2,3,4,566,32,45,98,65,12,45,87,98]\n",
    "\n",
    "has_negative = find_neg_num(numbers_list)\n",
    "\n",
    "if has_negative:\n",
    "    print(\"The list contains at least one negative number.\")\n",
    "else:\n",
    "    print(\"The list does not contain any negative numbers.\")"
   ]
  },
  {
   "cell_type": "code",
   "execution_count": null,
   "id": "f10214e8",
   "metadata": {},
   "outputs": [],
   "source": []
  }
 ],
 "metadata": {
  "kernelspec": {
   "display_name": "Python 3 (ipykernel)",
   "language": "python",
   "name": "python3"
  },
  "language_info": {
   "codemirror_mode": {
    "name": "ipython",
    "version": 3
   },
   "file_extension": ".py",
   "mimetype": "text/x-python",
   "name": "python",
   "nbconvert_exporter": "python",
   "pygments_lexer": "ipython3",
   "version": "3.11.3"
  }
 },
 "nbformat": 4,
 "nbformat_minor": 5
}
